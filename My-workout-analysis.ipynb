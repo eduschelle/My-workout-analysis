{
 "cells": [
  {
   "cell_type": "code",
   "execution_count": 1,
   "id": "9d516ed2",
   "metadata": {},
   "outputs": [],
   "source": [
    "import pandas as pd\n",
    "import requests\n",
    "import urllib3\n",
    "from matplotlib import pyplot as plt\n",
    "import seaborn as sns\n",
    "\n",
    "activities = 'https://www.strava.com/api/v3/athlete/activities'\n",
    "auth_url = \"https://www.strava.com/oauth/token\""
   ]
  },
  {
   "cell_type": "code",
   "execution_count": 2,
   "id": "db714746",
   "metadata": {
    "scrolled": true
   },
   "outputs": [
    {
     "name": "stderr",
     "output_type": "stream",
     "text": [
      "C:\\Users\\Eduardo\\AppData\\Local\\Programs\\Python\\Python310\\lib\\site-packages\\urllib3\\connectionpool.py:1045: InsecureRequestWarning: Unverified HTTPS request is being made to host 'www.strava.com'. Adding certificate verification is strongly advised. See: https://urllib3.readthedocs.io/en/1.26.x/advanced-usage.html#ssl-warnings\n",
      "  warnings.warn(\n"
     ]
    },
    {
     "name": "stdout",
     "output_type": "stream",
     "text": [
      "<Response [200]>\n"
     ]
    }
   ],
   "source": [
    "payload = {\n",
    "    'client_id': \"90629\",\n",
    "    'client_secret': 'dac647219a4e276d758fe38ffb52906e4d5144d8', \n",
    "    'refresh_token': '04119dc851c6419a8fbc4f0c205f672cbc1a1bc0',\n",
    "    'grant_type': \"refresh_token\",\n",
    "    'f': 'json'}\n",
    "\n",
    "res = requests.post(auth_url, data=payload, verify=False)\n",
    "access_token = res.json()['access_token']\n",
    "\n",
    "print(res)"
   ]
  },
  {
   "cell_type": "code",
   "execution_count": 3,
   "id": "854192e7",
   "metadata": {},
   "outputs": [
    {
     "name": "stdout",
     "output_type": "stream",
     "text": [
      "\n",
      " Página: 1\n",
      "\n",
      " Página: 2\n",
      "\n",
      " Parando\n",
      "\n",
      " 254 recordes carregados!\n"
     ]
    }
   ],
   "source": [
    "my_dataset = pd.DataFrame()\n",
    "empty_page = True\n",
    "page = 1\n",
    "while empty_page:\n",
    "    header = {'Authorization': 'Bearer ' + access_token}\n",
    "    param = {'per_page': 200, 'page': page}\n",
    "    page_dataset = requests.get(activities, headers=header, params=param).json()\n",
    "    my_dataset = pd.concat([my_dataset,pd.DataFrame(page_dataset)], ignore_index = True)\n",
    "    empty_page = bool(page_dataset)\n",
    "    if bool(page_dataset):\n",
    "        print('\\n Página:',page)\n",
    "    else:\n",
    "        print(\"\\n Parando\")\n",
    "    page += 1\n",
    "print(\"\\n {} recordes carregados!\".format(len(my_dataset)))"
   ]
  },
  {
   "cell_type": "code",
   "execution_count": 4,
   "id": "7bf8a472",
   "metadata": {},
   "outputs": [],
   "source": [
    "my_dataset['start_date'] = pd.to_datetime(my_dataset['start_date'],infer_datetime_format = True)\n"
   ]
  },
  {
   "cell_type": "code",
   "execution_count": 5,
   "id": "484b924b",
   "metadata": {},
   "outputs": [
    {
     "data": {
      "text/html": [
       "<div>\n",
       "<style scoped>\n",
       "    .dataframe tbody tr th:only-of-type {\n",
       "        vertical-align: middle;\n",
       "    }\n",
       "\n",
       "    .dataframe tbody tr th {\n",
       "        vertical-align: top;\n",
       "    }\n",
       "\n",
       "    .dataframe thead th {\n",
       "        text-align: right;\n",
       "    }\n",
       "</style>\n",
       "<table border=\"1\" class=\"dataframe\">\n",
       "  <thead>\n",
       "    <tr style=\"text-align: right;\">\n",
       "      <th></th>\n",
       "      <th>distance</th>\n",
       "    </tr>\n",
       "    <tr>\n",
       "      <th>type</th>\n",
       "      <th></th>\n",
       "    </tr>\n",
       "  </thead>\n",
       "  <tbody>\n",
       "    <tr>\n",
       "      <th>Hike</th>\n",
       "      <td>6</td>\n",
       "    </tr>\n",
       "    <tr>\n",
       "      <th>Ride</th>\n",
       "      <td>4</td>\n",
       "    </tr>\n",
       "    <tr>\n",
       "      <th>Run</th>\n",
       "      <td>222</td>\n",
       "    </tr>\n",
       "    <tr>\n",
       "      <th>Walk</th>\n",
       "      <td>21</td>\n",
       "    </tr>\n",
       "    <tr>\n",
       "      <th>Workout</th>\n",
       "      <td>1</td>\n",
       "    </tr>\n",
       "  </tbody>\n",
       "</table>\n",
       "</div>"
      ],
      "text/plain": [
       "         distance\n",
       "type             \n",
       "Hike            6\n",
       "Ride            4\n",
       "Run           222\n",
       "Walk           21\n",
       "Workout         1"
      ]
     },
     "execution_count": 5,
     "metadata": {},
     "output_type": "execute_result"
    }
   ],
   "source": [
    "my_dataset[['type','distance']].groupby('type').agg('count')"
   ]
  },
  {
   "cell_type": "code",
   "execution_count": null,
   "id": "dbae4232",
   "metadata": {},
   "outputs": [],
   "source": []
  }
 ],
 "metadata": {
  "kernelspec": {
   "display_name": "Python 3 (ipykernel)",
   "language": "python",
   "name": "python3"
  },
  "language_info": {
   "codemirror_mode": {
    "name": "ipython",
    "version": 3
   },
   "file_extension": ".py",
   "mimetype": "text/x-python",
   "name": "python",
   "nbconvert_exporter": "python",
   "pygments_lexer": "ipython3",
   "version": "3.10.4"
  }
 },
 "nbformat": 4,
 "nbformat_minor": 5
}
